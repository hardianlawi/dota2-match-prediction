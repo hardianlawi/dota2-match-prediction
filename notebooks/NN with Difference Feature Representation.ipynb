{
 "cells": [
  {
   "cell_type": "code",
   "execution_count": 1,
   "metadata": {
    "code_folding": []
   },
   "outputs": [
    {
     "name": "stderr",
     "output_type": "stream",
     "text": [
      "/home/hardian_lawi/anaconda3/lib/python3.6/site-packages/h5py/__init__.py:36: FutureWarning: Conversion of the second argument of issubdtype from `float` to `np.floating` is deprecated. In future, it will be treated as `np.float64 == np.dtype(float).type`.\n",
      "  from ._conv import register_converters as _register_converters\n"
     ]
    }
   ],
   "source": [
    "import os\n",
    "import sys\n",
    "sys.path.append('../')\n",
    "\n",
    "import random as rn\n",
    "import numpy as np\n",
    "import pandas as pd\n",
    "import seaborn as sns\n",
    "import matplotlib.pyplot as plt\n",
    "\n",
    "from sklearn.metrics import accuracy_score, log_loss\n",
    "from sklearn.model_selection import KFold\n",
    "\n",
    "import tensorflow as tf\n",
    "\n",
    "from src.utils.features import feature_names\n",
    "from src.utils.models import train_and_pred\n",
    "from src.utils.data import load_data\n",
    "\n",
    "pd.options.display.max_columns = 100\n",
    "%matplotlib inline\n",
    "plt.style.use('seaborn')"
   ]
  },
  {
   "cell_type": "code",
   "execution_count": 2,
   "metadata": {
    "code_folding": [
     6
    ]
   },
   "outputs": [
    {
     "name": "stdout",
     "output_type": "stream",
     "text": [
      "creating new session.\n"
     ]
    },
    {
     "name": "stderr",
     "output_type": "stream",
     "text": [
      "Using TensorFlow backend.\n"
     ]
    }
   ],
   "source": [
    "# The below is necessary in Python 3.2.3 onwards to\n",
    "# have reproducible behavior for certain hash-based operations.\n",
    "# See these references for further details:\n",
    "# https://docs.python.org/3.4/using/cmdline.html#envvar-PYTHONHASHSEED\n",
    "# https://github.com/fchollet/keras/issues/2280#issuecomment-306959926\n",
    "\n",
    "def init_seeds(seed):\n",
    "\n",
    "    os.environ['PYTHONHASHSEED'] = '0'\n",
    "\n",
    "    # The below is necessary for starting Numpy generated random numbers\n",
    "    # in a well-defined initial state.\n",
    "\n",
    "    np.random.seed(seed)\n",
    "\n",
    "    # The below is necessary for starting core Python generated random numbers\n",
    "    # in a well-defined state.\n",
    "\n",
    "    rn.seed(seed)\n",
    "\n",
    "    # Force TensorFlow to use single thread.\n",
    "    # Multiple threads are a potential source of\n",
    "    # non-reproducible results.\n",
    "    # For further details, see: https://stackoverflow.com/questions/42022950/which-seeds-have-to-be-set-where-to-realize-100-reproducibility-of-training-res\n",
    "\n",
    "    session_conf = tf.ConfigProto(intra_op_parallelism_threads=1, inter_op_parallelism_threads=1)\n",
    "\n",
    "    from keras import backend as K\n",
    "\n",
    "    # The below tf.set_random_seed() will make random number generation\n",
    "    # in the TensorFlow backend have a well-defined initial state.\n",
    "    # For further details, see: https://www.tensorflow.org/api_docs/python/tf/set_random_seed\n",
    "\n",
    "    tf.set_random_seed(seed)\n",
    "\n",
    "    sess = tf.Session(graph=tf.get_default_graph(), config=session_conf)\n",
    "    \n",
    "    K.set_session(sess)\n",
    "    \n",
    "    return sess\n",
    "\n",
    "try:\n",
    "    del sess\n",
    "except:\n",
    "    print('creating new session.')\n",
    "    sess = init_seeds(0)"
   ]
  },
  {
   "cell_type": "code",
   "execution_count": 3,
   "metadata": {
    "code_folding": []
   },
   "outputs": [],
   "source": [
    "radiant_cols = ['hero_' + str(i) for i in range(5)]\n",
    "dire_cols = ['hero_' + str(i) for i in range(5, 10)]\n",
    "no_heroes = 116\n",
    "\n",
    "radiants, dires, df = load_data()"
   ]
  },
  {
   "cell_type": "code",
   "execution_count": 4,
   "metadata": {},
   "outputs": [],
   "source": [
    "def define_model(name='custom_nn_1', optimizer='adam', seed=0,\n",
    "                 learning_rate=0.001, unit_size=16, activation='relu',\n",
    "                 dropout_rate=0.2, alpha=0.01):\n",
    "\n",
    "    if optimizer == 'adam':\n",
    "        optimizer = tf.train.AdamOptimizer(learning_rate=learning_rate)\n",
    "    elif optimizer == 'sgd':\n",
    "        optimizer = tf.train.GradientDescentOptimizer(\n",
    "            learning_rate=learning_rate)\n",
    "    else:\n",
    "        raise Exception\n",
    "\n",
    "    x = tf.keras.layers.Input(shape=[len(feature_names)], name='input')\n",
    "    \n",
    "    inputs = x\n",
    "    \n",
    "    if name == 'nn_tanh':\n",
    "        x = tf.keras.layers.Dense(unit_size, activation='tanh')(x)\n",
    "        x = tf.keras.layers.Dense(1, activation='sigmoid')(x)\n",
    "    elif name == 'nn_relu':\n",
    "        x = tf.keras.layers.Dense(unit_size, activation='relu')(x)\n",
    "        x = tf.keras.layers.Dense(1, activation='sigmoid')(x)\n",
    "    elif name == 'nn_l2_regularizer':\n",
    "        x = tf.keras.layers.Dense(unit_size, activation=activation,\n",
    "                                  kernel_regularizer=tf.keras.regularizers.l2(alpha))(x)\n",
    "        x = tf.keras.layers.Dense(1, activation='sigmoid',\n",
    "                                  kernel_regularizer=tf.keras.regularizers.l2(alpha))(x)\n",
    "    elif name == 'nn_dropout':\n",
    "        x = tf.keras.layers.Dropout(0.5, seed=seed)(x)\n",
    "        x = tf.keras.layers.Dense(unit_size, activation=activation)(x)\n",
    "        x = tf.keras.layers.Dropout(dropout_rate, seed=seed)(x)\n",
    "        x = tf.keras.layers.Dense(1, activation='sigmoid')(x)\n",
    "    else:\n",
    "        raise Exception\n",
    "\n",
    "    model = tf.keras.Model(inputs=inputs, outputs=x)\n",
    "    model.compile(optimizer, loss='binary_crossentropy', metrics=['acc'])\n",
    "\n",
    "    return model"
   ]
  },
  {
   "cell_type": "code",
   "execution_count": 5,
   "metadata": {
    "code_folding": [],
    "scrolled": false
   },
   "outputs": [
    {
     "name": "stdout",
     "output_type": "stream",
     "text": [
      "=================================================\n",
      "Iter 0\n",
      "Train pos pctg 0.5376726663876099\n",
      "Test pos pctg 0.5424863959815822\n",
      "-------------------------------------------------\n",
      "\n",
      "WARNING:tensorflow:From /home/hardian_lawi/anaconda3/lib/python3.6/site-packages/tensorflow/python/ops/resource_variable_ops.py:432: colocate_with (from tensorflow.python.framework.ops) is deprecated and will be removed in a future version.\n",
      "Instructions for updating:\n",
      "Colocations handled automatically by placer.\n",
      "nn_tanh == train: 0.6172 - test: 0.5598\n",
      "nn_relu == train: 0.6089 - test: 0.5545\n",
      "nn_l2_regularizer == train: 0.5693 - test: 0.5680\n",
      "nn_dropout == train: 0.5719 - test: 0.5675\n",
      "=================================================\n",
      "\n",
      "Iter 1\n",
      "Train pos pctg 0.5393121250174411\n",
      "Test pos pctg 0.5359285614622575\n",
      "-------------------------------------------------\n",
      "\n",
      "nn_tanh == train: 0.6190 - test: 0.5617\n",
      "nn_relu == train: 0.6065 - test: 0.5613\n",
      "nn_l2_regularizer == train: 0.5697 - test: 0.5643\n",
      "nn_dropout == train: 0.5693 - test: 0.5549\n",
      "=================================================\n",
      "\n",
      "Iter 2\n",
      "Train pos pctg 0.5378121947816381\n",
      "Test pos pctg 0.5419282824054695\n",
      "-------------------------------------------------\n",
      "\n",
      "nn_tanh == train: 0.6179 - test: 0.5567\n",
      "nn_relu == train: 0.6054 - test: 0.5581\n",
      "nn_l2_regularizer == train: 0.5677 - test: 0.5670\n",
      "nn_dropout == train: 0.5707 - test: 0.5670\n",
      "=================================================\n",
      "\n",
      "Iter 3\n",
      "Train pos pctg 0.5390679503278917\n",
      "Test pos pctg 0.5369052602204548\n",
      "-------------------------------------------------\n",
      "\n",
      "nn_tanh == train: 0.6167 - test: 0.5497\n",
      "nn_relu == train: 0.6088 - test: 0.5463\n",
      "nn_l2_regularizer == train: 0.5718 - test: 0.5624\n",
      "nn_dropout == train: 0.5691 - test: 0.5555\n",
      "=================================================\n",
      "\n",
      "Iter 4\n",
      "Train pos pctg 0.5393121250174411\n",
      "Test pos pctg 0.5359285614622575\n",
      "-------------------------------------------------\n",
      "\n",
      "nn_tanh == train: 0.6172 - test: 0.5583\n",
      "nn_relu == train: 0.6035 - test: 0.5557\n",
      "nn_l2_regularizer == train: 0.5717 - test: 0.5676\n",
      "nn_dropout == train: 0.5728 - test: 0.5637\n",
      "=================================================\n",
      "\n",
      "Average score\n",
      "--------------------\n",
      "nn_tanh ======= train: 0.6176015069066555 ---- test: 0.5572485000697641\n",
      "nn_relu ======= train: 0.6066275987163389 ---- test: 0.5551834798381471\n",
      "nn_l2_regularizer ======= train: 0.5700362773824473 ---- test: 0.5658713548207059\n",
      "nn_dropout ======= train: 0.5707757778707967 ---- test: 0.5617134086786661\n"
     ]
    }
   ],
   "source": [
    "n_splits = 5\n",
    "kf = KFold(n_splits, shuffle=True, random_state=10)\n",
    "\n",
    "print('=================================================')\n",
    "\n",
    "avg_score = {}\n",
    "scores = {}\n",
    "avg_threshold = 0\n",
    "\n",
    "histories = {}\n",
    "\n",
    "for i, (train_idx, test_idx) in enumerate(kf.split(df)):\n",
    "    \n",
    "    X_train = radiants.iloc[train_idx].values - dires.iloc[train_idx].values\n",
    "    X_test = radiants.iloc[test_idx].values - dires.iloc[test_idx].values\n",
    "\n",
    "    y_train = df.radiant_win.iloc[train_idx].values\n",
    "    y_test = df.radiant_win.iloc[test_idx].values\n",
    "    \n",
    "    print('Iter', i)\n",
    "    print('Train pos pctg', y_train.mean())\n",
    "    print('Test pos pctg', y_test.mean())\n",
    "    print('-------------------------------------------------\\n')\n",
    "    \n",
    "    models_dict = {\n",
    "        'nn_tanh': [\n",
    "            define_model(activation='tanh', name='nn_tanh', optimizer='adam', seed=0),\n",
    "        ],\n",
    "        'nn_relu': [\n",
    "            define_model(activation='relu', name='nn_relu', optimizer='adam', seed=0),\n",
    "        ],\n",
    "        'nn_l2_regularizer': [\n",
    "            define_model(activation='relu', name='nn_l2_regularizer', optimizer='adam', seed=0),\n",
    "        ],\n",
    "        'nn_dropout': [\n",
    "            define_model(activation='relu', name='nn_dropout', optimizer='adam', seed=0),\n",
    "        ],\n",
    "    }\n",
    "    \n",
    "    if i not in histories:\n",
    "        histories[i] = {}\n",
    "        \n",
    "    scores[i] = {}\n",
    "    \n",
    "    for key, models in models_dict.items():\n",
    "        \n",
    "        if key not in avg_score:\n",
    "            avg_score[key] = dict(train=0, test=0)\n",
    "            \n",
    "        if key not in histories[i]:\n",
    "            histories[i][key] = {}\n",
    "            \n",
    "        temp_preds = train_and_pred(models, X_train, y_train, X_test, y_test, key)\n",
    "        temp_scores = accuracy_score(y_train, temp_preds[0] > 0.5), \\\n",
    "            accuracy_score(y_test, temp_preds[1] > 0.5)\n",
    "        \n",
    "        avg_score[key]['train'] += temp_scores[0]\n",
    "        avg_score[key]['test'] += temp_scores[1]\n",
    "        \n",
    "        scores[i][key] = temp_scores[1]\n",
    "\n",
    "        print(key, '==', \n",
    "              'train: %.4f' % temp_scores[0], '-',\n",
    "              'test: %.4f' % temp_scores[1])\n",
    "        \n",
    "        histories[i][key].update(temp_preds[2].history)\n",
    "\n",
    "    print('=================================================\\n')\n",
    "          \n",
    "############################################################################\n",
    "\n",
    "print('Average score\\n--------------------')\n",
    "for key, models in models_dict.items():\n",
    "    print(key, '=======', \n",
    "          'train:', avg_score[key]['train'] / n_splits, '----',\n",
    "          'test:', avg_score[key]['test'] / n_splits)"
   ]
  },
  {
   "cell_type": "code",
   "execution_count": 6,
   "metadata": {},
   "outputs": [
    {
     "data": {
      "text/plain": [
       "Text(0, 0.5, 'Validation Log loss')"
      ]
     },
     "execution_count": 6,
     "metadata": {},
     "output_type": "execute_result"
    },
    {
     "data": {
      "image/png": "[encoded data removed]",
      "text/plain": [
       "<Figure size 864x432 with 1 Axes>"
      ]
     },
     "metadata": {},
     "output_type": "display_data"
    }
   ],
   "source": [
    "reform = {(metric, fold, model): values \n",
    "          for fold, interDict in histories.items() \n",
    "          for model, innerDict in interDict.items()\n",
    "          for metric, values in innerDict.items()}\n",
    "\n",
    "reform = pd.DataFrame(reform)\n",
    "\n",
    "reform['val_loss'][0].plot(figsize=(12, 6))\n",
    "plt.xlabel('epoch', fontsize=12)\n",
    "plt.ylabel('Validation Log loss', fontsize=12)"
   ]
  }
 ],
 "metadata": {
  "kernelspec": {
   "display_name": "Python 3",
   "language": "python",
   "name": "python3"
  },
  "language_info": {
   "codemirror_mode": {
    "name": "ipython",
    "version": 3
   },
   "file_extension": ".py",
   "mimetype": "text/x-python",
   "name": "python",
   "nbconvert_exporter": "python",
   "pygments_lexer": "ipython3",
   "version": "3.6.4"
  }
 },
 "nbformat": 4,
 "nbformat_minor": 2
}
