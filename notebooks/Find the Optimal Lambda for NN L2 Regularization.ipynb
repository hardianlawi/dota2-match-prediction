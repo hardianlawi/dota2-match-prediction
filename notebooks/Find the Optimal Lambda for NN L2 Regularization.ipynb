{
 "cells": [
  {
   "cell_type": "code",
   "execution_count": 1,
   "metadata": {
    "code_folding": []
   },
   "outputs": [
    {
     "name": "stderr",
     "output_type": "stream",
     "text": [
      "/home/hardian_lawi/anaconda3/lib/python3.6/site-packages/h5py/__init__.py:36: FutureWarning: Conversion of the second argument of issubdtype from `float` to `np.floating` is deprecated. In future, it will be treated as `np.float64 == np.dtype(float).type`.\n",
      "  from ._conv import register_converters as _register_converters\n"
     ]
    }
   ],
   "source": [
    "import os\n",
    "import sys\n",
    "sys.path.append('../')\n",
    "\n",
    "import random as rn\n",
    "import numpy as np\n",
    "import pandas as pd\n",
    "import seaborn as sns\n",
    "import matplotlib.pyplot as plt\n",
    "\n",
    "from sklearn.metrics import accuracy_score, log_loss\n",
    "from sklearn.model_selection import KFold\n",
    "\n",
    "import tensorflow as tf\n",
    "\n",
    "from src.utils.models import define_model, train_and_pred\n",
    "from src.utils.data import load_data\n",
    "\n",
    "pd.options.display.max_columns = 100\n",
    "%matplotlib inline\n",
    "plt.style.use('seaborn')"
   ]
  },
  {
   "cell_type": "code",
   "execution_count": 2,
   "metadata": {
    "code_folding": [
     6
    ]
   },
   "outputs": [
    {
     "name": "stdout",
     "output_type": "stream",
     "text": [
      "creating new session.\n"
     ]
    },
    {
     "name": "stderr",
     "output_type": "stream",
     "text": [
      "Using TensorFlow backend.\n"
     ]
    }
   ],
   "source": [
    "# The below is necessary in Python 3.2.3 onwards to\n",
    "# have reproducible behavior for certain hash-based operations.\n",
    "# See these references for further details:\n",
    "# https://docs.python.org/3.4/using/cmdline.html#envvar-PYTHONHASHSEED\n",
    "# https://github.com/fchollet/keras/issues/2280#issuecomment-306959926\n",
    "\n",
    "def init_seeds(seed):\n",
    "\n",
    "    os.environ['PYTHONHASHSEED'] = '0'\n",
    "\n",
    "    # The below is necessary for starting Numpy generated random numbers\n",
    "    # in a well-defined initial state.\n",
    "\n",
    "    np.random.seed(seed)\n",
    "\n",
    "    # The below is necessary for starting core Python generated random numbers\n",
    "    # in a well-defined state.\n",
    "\n",
    "    rn.seed(seed)\n",
    "\n",
    "    # Force TensorFlow to use single thread.\n",
    "    # Multiple threads are a potential source of\n",
    "    # non-reproducible results.\n",
    "    # For further details, see: https://stackoverflow.com/questions/42022950/which-seeds-have-to-be-set-where-to-realize-100-reproducibility-of-training-res\n",
    "\n",
    "    session_conf = tf.ConfigProto(intra_op_parallelism_threads=1, inter_op_parallelism_threads=1)\n",
    "\n",
    "    from keras import backend as K\n",
    "\n",
    "    # The below tf.set_random_seed() will make random number generation\n",
    "    # in the TensorFlow backend have a well-defined initial state.\n",
    "    # For further details, see: https://www.tensorflow.org/api_docs/python/tf/set_random_seed\n",
    "\n",
    "    tf.set_random_seed(seed)\n",
    "\n",
    "    sess = tf.Session(graph=tf.get_default_graph(), config=session_conf)\n",
    "    \n",
    "    K.set_session(sess)\n",
    "    \n",
    "    return sess\n",
    "\n",
    "try:\n",
    "    del sess\n",
    "except:\n",
    "    pass\n",
    "\n",
    "print('creating new session.')\n",
    "sess = init_seeds(0)"
   ]
  },
  {
   "cell_type": "code",
   "execution_count": 3,
   "metadata": {
    "code_folding": []
   },
   "outputs": [],
   "source": [
    "radiant_cols = ['hero_' + str(i) for i in range(5)]\n",
    "dire_cols = ['hero_' + str(i) for i in range(5, 10)]\n",
    "no_heroes = 116\n",
    "\n",
    "radiants, dires, df = load_data()"
   ]
  },
  {
   "cell_type": "markdown",
   "metadata": {},
   "source": [
    "## Tune Alpha L2 Regularization"
   ]
  },
  {
   "cell_type": "code",
   "execution_count": 4,
   "metadata": {
    "code_folding": [],
    "scrolled": false
   },
   "outputs": [
    {
     "name": "stdout",
     "output_type": "stream",
     "text": [
      "=================================================\n",
      "alpha: 1e-05 \n",
      "\n",
      "WARNING:tensorflow:From /home/hardian_lawi/anaconda3/lib/python3.6/site-packages/tensorflow/python/ops/resource_variable_ops.py:432: colocate_with (from tensorflow.python.framework.ops) is deprecated and will be removed in a future version.\n",
      "Instructions for updating:\n",
      "Colocations handled automatically by placer.\n",
      "Average score\n",
      "--------------------\n",
      "custom_nn_l2_regularizer ======= train: 0.6004743965396959 ---- test: 0.5668480535789033\n",
      "=================================================\n",
      "alpha: 0.0005 \n",
      "\n",
      "Average score\n",
      "--------------------\n",
      "custom_nn_l2_regularizer ======= train: 0.6039347007115948 ---- test: 0.5672945444397935\n",
      "=================================================\n",
      "alpha: 0.001 \n",
      "\n",
      "Average score\n",
      "--------------------\n",
      "custom_nn_l2_regularizer ======= train: 0.6035858797265243 ---- test: 0.5714803962606391\n",
      "=================================================\n",
      "alpha: 0.01 \n",
      "\n",
      "Average score\n",
      "--------------------\n",
      "custom_nn_l2_regularizer ======= train: 0.5711594809543743 ---- test: 0.5679921864099344\n",
      "=================================================\n",
      "alpha: 0.05 \n",
      "\n",
      "Average score\n",
      "--------------------\n",
      "custom_nn_l2_regularizer ======= train: 0.5387191293428212 ---- test: 0.5386354123064043\n",
      "=================================================\n",
      "alpha: 0.1 \n",
      "\n",
      "Average score\n",
      "--------------------\n",
      "custom_nn_l2_regularizer ======= train: 0.5386354123064043 ---- test: 0.5386354123064043\n",
      "=================================================\n",
      "alpha: 0.5 \n",
      "\n",
      "Average score\n",
      "--------------------\n",
      "custom_nn_l2_regularizer ======= train: 0.5386354123064043 ---- test: 0.5386354123064043\n",
      "=================================================\n",
      "alpha: 1 \n",
      "\n",
      "Average score\n",
      "--------------------\n",
      "custom_nn_l2_regularizer ======= train: 0.5386354123064043 ---- test: 0.5386354123064043\n",
      "=================================================\n",
      "alpha: 2 \n",
      "\n",
      "Average score\n",
      "--------------------\n",
      "custom_nn_l2_regularizer ======= train: 0.5386354123064043 ---- test: 0.5386354123064043\n",
      "Best alpha: 1e-05 with loss 0.6813618954228976\n"
     ]
    },
    {
     "data": {
      "text/plain": [
       "<matplotlib.legend.Legend at 0x7f46efc9cf28>"
      ]
     },
     "execution_count": 4,
     "metadata": {},
     "output_type": "execute_result"
    },
    {
     "data": {
      "image/png": "[encoded data removed]",
      "text/plain": [
       "<Figure size 864x432 with 1 Axes>"
      ]
     },
     "metadata": {},
     "output_type": "display_data"
    }
   ],
   "source": [
    "n_splits = 3\n",
    "kf = KFold(n_splits, shuffle=True, random_state=10)\n",
    "\n",
    "hs = {}\n",
    "\n",
    "alpha_choices = [0.00001, 0.0005, 0.001, 0.01, 0.05, 0.1, 0.5, 1, 2]\n",
    "\n",
    "for alpha in alpha_choices:\n",
    "    \n",
    "    hs[alpha] = {}\n",
    "\n",
    "    avg_score = {}\n",
    "    avg_threshold = 0\n",
    "    \n",
    "    print('=================================================')\n",
    "    print('alpha:', alpha, '\\n')\n",
    "    \n",
    "    for i, (train_idx, test_idx) in enumerate(kf.split(df)):\n",
    "\n",
    "        X_train = [radiants.iloc[train_idx].copy(), dires.iloc[train_idx].copy()]\n",
    "        X_test = [radiants.iloc[test_idx].copy(), dires.iloc[test_idx].copy()]\n",
    "\n",
    "        y_train = df.radiant_win.iloc[train_idx].values\n",
    "        y_test = df.radiant_win.iloc[test_idx].values\n",
    "\n",
    "        models_dict = {\n",
    "            'custom_nn_l2_regularizer': [\n",
    "                define_model(name='custom_nn_l2_regularizer', optimizer='adam', \n",
    "                             seed=0, alpha=alpha),\n",
    "            ],\n",
    "        }\n",
    "\n",
    "        if i not in hs[alpha]:\n",
    "            hs[alpha][i] = {}\n",
    "\n",
    "        for key, models in models_dict.items():\n",
    "\n",
    "            if key not in avg_score:\n",
    "                avg_score[key] = dict(train=0, test=0)\n",
    "\n",
    "            temp_preds = train_and_pred(models, X_train, y_train, X_test, y_test, key)\n",
    "            temp_scores = accuracy_score(y_train, temp_preds[0] > 0.5), \\\n",
    "                accuracy_score(y_test, temp_preds[1] > 0.5)\n",
    "\n",
    "            avg_score[key]['train'] += temp_scores[0]\n",
    "            avg_score[key]['test'] += temp_scores[1]\n",
    "\n",
    "            hs[alpha][i].update(temp_preds[2].history)\n",
    "\n",
    "    ############################################################################\n",
    "\n",
    "    print('Average score\\n--------------------')\n",
    "    for key, models in models_dict.items():\n",
    "        print(key, '=======', \n",
    "              'train:', avg_score[key]['train'] / n_splits, '----',\n",
    "              'test:', avg_score[key]['test'] / n_splits)\n",
    "        \n",
    "reform_2 = {(metric, alpha, fold): values \n",
    "          for alpha, interDict in hs.items() \n",
    "          for fold, innerDict in interDict.items()\n",
    "          for metric, values in innerDict.items()}\n",
    "\n",
    "reform_2 = pd.DataFrame(reform_2)\n",
    "\n",
    "temp = []\n",
    "for alpha in alpha_choices:\n",
    "    temp.append(reform_2['val_loss'][alpha].min(axis=0).mean())\n",
    "print('Best alpha:', alpha_choices[np.argmin(temp)], 'with loss', temp[np.argmin(temp)])\n",
    "\n",
    "reform_2['val_loss'].min(axis=0).groupby(level=0).mean().plot(figsize=(12, 6))\n",
    "plt.xlabel('alpha', fontsize=12)\n",
    "plt.ylabel('Validation Log loss', fontsize=12)\n",
    "plt.legend(['custom'])"
   ]
  },
  {
   "cell_type": "code",
   "execution_count": null,
   "metadata": {
    "scrolled": true
   },
   "outputs": [],
   "source": []
  }
 ],
 "metadata": {
  "kernelspec": {
   "display_name": "Python 3",
   "language": "python",
   "name": "python3"
  },
  "language_info": {
   "codemirror_mode": {
    "name": "ipython",
    "version": 3
   },
   "file_extension": ".py",
   "mimetype": "text/x-python",
   "name": "python",
   "nbconvert_exporter": "python",
   "pygments_lexer": "ipython3",
   "version": "3.6.4"
  }
 },
 "nbformat": 4,
 "nbformat_minor": 2
}
