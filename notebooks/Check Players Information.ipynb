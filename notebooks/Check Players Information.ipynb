{
 "cells": [
  {
   "cell_type": "code",
   "execution_count": 1,
   "metadata": {},
   "outputs": [],
   "source": [
    "import sys\n",
    "sys.path.append('../')\n",
    "\n",
    "import pandas as pd\n",
    "import numpy as np\n",
    "import seaborn as sns\n",
    "import matplotlib.pyplot as plt\n",
    "from src.database import MongoDB\n",
    "\n",
    "%matplotlib inline\n",
    "\n",
    "pd.options.display.max_columns = 100\n",
    "\n",
    "flatten = lambda ll: [x for l in ll for x in l]"
   ]
  },
  {
   "cell_type": "markdown",
   "metadata": {},
   "source": [
    "## Check data quality"
   ]
  },
  {
   "cell_type": "code",
   "execution_count": 2,
   "metadata": {},
   "outputs": [
    {
     "name": "stdout",
     "output_type": "stream",
     "text": [
      "Querying data from matches_data.\n"
     ]
    }
   ],
   "source": [
    "db = MongoDB()\n",
    "matches_data = db.query_all_data('matches_data')\n",
    "\n",
    "rows = []\n",
    "for doc in matches_data:\n",
    "    temp = []\n",
    "    temp.append(doc['match_id'])\n",
    "    temp.append(doc['duration'])\n",
    "    for player in doc['players']:\n",
    "        temp.append(player['abandons'])\n",
    "        temp.append(player['account_id'])\n",
    "    rows.append(temp)"
   ]
  },
  {
   "cell_type": "code",
   "execution_count": 3,
   "metadata": {},
   "outputs": [
    {
     "data": {
      "text/plain": [
       "(38357, 22)"
      ]
     },
     "execution_count": 3,
     "metadata": {},
     "output_type": "execute_result"
    }
   ],
   "source": [
    "df = pd.DataFrame(rows, columns=['match_id', 'duration'] + flatten([['abandons_' + str(i), 'player_' + str(i)] for i in range(10)]))\n",
    "df.shape"
   ]
  },
  {
   "cell_type": "code",
   "execution_count": 4,
   "metadata": {},
   "outputs": [
    {
     "data": {
      "text/html": [
       "<div>\n",
       "<style scoped>\n",
       "    .dataframe tbody tr th:only-of-type {\n",
       "        vertical-align: middle;\n",
       "    }\n",
       "\n",
       "    .dataframe tbody tr th {\n",
       "        vertical-align: top;\n",
       "    }\n",
       "\n",
       "    .dataframe thead th {\n",
       "        text-align: right;\n",
       "    }\n",
       "</style>\n",
       "<table border=\"1\" class=\"dataframe\">\n",
       "  <thead>\n",
       "    <tr style=\"text-align: right;\">\n",
       "      <th></th>\n",
       "      <th>match_id</th>\n",
       "      <th>duration</th>\n",
       "      <th>abandons_0</th>\n",
       "      <th>player_0</th>\n",
       "      <th>abandons_1</th>\n",
       "      <th>player_1</th>\n",
       "      <th>abandons_2</th>\n",
       "      <th>player_2</th>\n",
       "      <th>abandons_3</th>\n",
       "      <th>player_3</th>\n",
       "      <th>abandons_4</th>\n",
       "      <th>player_4</th>\n",
       "      <th>abandons_5</th>\n",
       "      <th>player_5</th>\n",
       "      <th>abandons_6</th>\n",
       "      <th>player_6</th>\n",
       "      <th>abandons_7</th>\n",
       "      <th>player_7</th>\n",
       "      <th>abandons_8</th>\n",
       "      <th>player_8</th>\n",
       "      <th>abandons_9</th>\n",
       "      <th>player_9</th>\n",
       "      <th>radiant_abandons</th>\n",
       "      <th>dire_abandons</th>\n",
       "      <th>no_radiant_identified</th>\n",
       "      <th>no_dire_identified</th>\n",
       "    </tr>\n",
       "  </thead>\n",
       "  <tbody>\n",
       "    <tr>\n",
       "      <th>0</th>\n",
       "      <td>4154000815</td>\n",
       "      <td>2470</td>\n",
       "      <td>0</td>\n",
       "      <td>NaN</td>\n",
       "      <td>0</td>\n",
       "      <td>NaN</td>\n",
       "      <td>0</td>\n",
       "      <td>299711286.0</td>\n",
       "      <td>0</td>\n",
       "      <td>NaN</td>\n",
       "      <td>0</td>\n",
       "      <td>334260386.0</td>\n",
       "      <td>0</td>\n",
       "      <td>135550506.0</td>\n",
       "      <td>0</td>\n",
       "      <td>100664395.0</td>\n",
       "      <td>0</td>\n",
       "      <td>397697319.0</td>\n",
       "      <td>0</td>\n",
       "      <td>198316694.0</td>\n",
       "      <td>0</td>\n",
       "      <td>174185760.0</td>\n",
       "      <td>0</td>\n",
       "      <td>0</td>\n",
       "      <td>2</td>\n",
       "      <td>5</td>\n",
       "    </tr>\n",
       "    <tr>\n",
       "      <th>1</th>\n",
       "      <td>4152678603</td>\n",
       "      <td>2239</td>\n",
       "      <td>0</td>\n",
       "      <td>NaN</td>\n",
       "      <td>0</td>\n",
       "      <td>NaN</td>\n",
       "      <td>0</td>\n",
       "      <td>NaN</td>\n",
       "      <td>0</td>\n",
       "      <td>200445858.0</td>\n",
       "      <td>1</td>\n",
       "      <td>144286464.0</td>\n",
       "      <td>0</td>\n",
       "      <td>NaN</td>\n",
       "      <td>0</td>\n",
       "      <td>NaN</td>\n",
       "      <td>0</td>\n",
       "      <td>254093217.0</td>\n",
       "      <td>0</td>\n",
       "      <td>NaN</td>\n",
       "      <td>0</td>\n",
       "      <td>NaN</td>\n",
       "      <td>1</td>\n",
       "      <td>0</td>\n",
       "      <td>2</td>\n",
       "      <td>1</td>\n",
       "    </tr>\n",
       "    <tr>\n",
       "      <th>2</th>\n",
       "      <td>4152494309</td>\n",
       "      <td>3286</td>\n",
       "      <td>0</td>\n",
       "      <td>212752913.0</td>\n",
       "      <td>0</td>\n",
       "      <td>257710284.0</td>\n",
       "      <td>0</td>\n",
       "      <td>NaN</td>\n",
       "      <td>0</td>\n",
       "      <td>NaN</td>\n",
       "      <td>0</td>\n",
       "      <td>NaN</td>\n",
       "      <td>0</td>\n",
       "      <td>52058001.0</td>\n",
       "      <td>0</td>\n",
       "      <td>NaN</td>\n",
       "      <td>0</td>\n",
       "      <td>94871311.0</td>\n",
       "      <td>0</td>\n",
       "      <td>125012778.0</td>\n",
       "      <td>0</td>\n",
       "      <td>157017119.0</td>\n",
       "      <td>0</td>\n",
       "      <td>0</td>\n",
       "      <td>2</td>\n",
       "      <td>4</td>\n",
       "    </tr>\n",
       "    <tr>\n",
       "      <th>3</th>\n",
       "      <td>4152425012</td>\n",
       "      <td>2408</td>\n",
       "      <td>0</td>\n",
       "      <td>NaN</td>\n",
       "      <td>0</td>\n",
       "      <td>104438886.0</td>\n",
       "      <td>0</td>\n",
       "      <td>NaN</td>\n",
       "      <td>0</td>\n",
       "      <td>NaN</td>\n",
       "      <td>0</td>\n",
       "      <td>NaN</td>\n",
       "      <td>0</td>\n",
       "      <td>198782054.0</td>\n",
       "      <td>0</td>\n",
       "      <td>191886982.0</td>\n",
       "      <td>0</td>\n",
       "      <td>143928825.0</td>\n",
       "      <td>0</td>\n",
       "      <td>115340026.0</td>\n",
       "      <td>0</td>\n",
       "      <td>NaN</td>\n",
       "      <td>0</td>\n",
       "      <td>0</td>\n",
       "      <td>1</td>\n",
       "      <td>4</td>\n",
       "    </tr>\n",
       "    <tr>\n",
       "      <th>4</th>\n",
       "      <td>4152417604</td>\n",
       "      <td>2192</td>\n",
       "      <td>0</td>\n",
       "      <td>131116276.0</td>\n",
       "      <td>0</td>\n",
       "      <td>361645365.0</td>\n",
       "      <td>0</td>\n",
       "      <td>120410884.0</td>\n",
       "      <td>0</td>\n",
       "      <td>887383170.0</td>\n",
       "      <td>0</td>\n",
       "      <td>119571905.0</td>\n",
       "      <td>0</td>\n",
       "      <td>NaN</td>\n",
       "      <td>0</td>\n",
       "      <td>NaN</td>\n",
       "      <td>0</td>\n",
       "      <td>370089153.0</td>\n",
       "      <td>0</td>\n",
       "      <td>NaN</td>\n",
       "      <td>0</td>\n",
       "      <td>150848809.0</td>\n",
       "      <td>0</td>\n",
       "      <td>0</td>\n",
       "      <td>5</td>\n",
       "      <td>2</td>\n",
       "    </tr>\n",
       "  </tbody>\n",
       "</table>\n",
       "</div>"
      ],
      "text/plain": [
       "     match_id  duration  abandons_0     player_0  abandons_1     player_1  \\\n",
       "0  4154000815      2470           0          NaN           0          NaN   \n",
       "1  4152678603      2239           0          NaN           0          NaN   \n",
       "2  4152494309      3286           0  212752913.0           0  257710284.0   \n",
       "3  4152425012      2408           0          NaN           0  104438886.0   \n",
       "4  4152417604      2192           0  131116276.0           0  361645365.0   \n",
       "\n",
       "   abandons_2     player_2  abandons_3     player_3  abandons_4     player_4  \\\n",
       "0           0  299711286.0           0          NaN           0  334260386.0   \n",
       "1           0          NaN           0  200445858.0           1  144286464.0   \n",
       "2           0          NaN           0          NaN           0          NaN   \n",
       "3           0          NaN           0          NaN           0          NaN   \n",
       "4           0  120410884.0           0  887383170.0           0  119571905.0   \n",
       "\n",
       "   abandons_5     player_5  abandons_6     player_6  abandons_7     player_7  \\\n",
       "0           0  135550506.0           0  100664395.0           0  397697319.0   \n",
       "1           0          NaN           0          NaN           0  254093217.0   \n",
       "2           0   52058001.0           0          NaN           0   94871311.0   \n",
       "3           0  198782054.0           0  191886982.0           0  143928825.0   \n",
       "4           0          NaN           0          NaN           0  370089153.0   \n",
       "\n",
       "   abandons_8     player_8  abandons_9     player_9  radiant_abandons  \\\n",
       "0           0  198316694.0           0  174185760.0                 0   \n",
       "1           0          NaN           0          NaN                 1   \n",
       "2           0  125012778.0           0  157017119.0                 0   \n",
       "3           0  115340026.0           0          NaN                 0   \n",
       "4           0          NaN           0  150848809.0                 0   \n",
       "\n",
       "   dire_abandons  no_radiant_identified  no_dire_identified  \n",
       "0              0                      2                   5  \n",
       "1              0                      2                   1  \n",
       "2              0                      2                   4  \n",
       "3              0                      1                   4  \n",
       "4              0                      5                   2  "
      ]
     },
     "execution_count": 4,
     "metadata": {},
     "output_type": "execute_result"
    }
   ],
   "source": [
    "df['radiant_abandons'] = df[['abandons_' + str(i) for i in range(5)]].sum(axis=1)\n",
    "df['dire_abandons'] = df[['abandons_' + str(i) for i in range(5, 10)]].sum(axis=1)\n",
    "\n",
    "df['no_radiant_identified'] = (~df[['player_' + str(i) for i in range(5)]].isna() == True).\\\n",
    "    apply(lambda x: sum(x), axis=1)\n",
    "df['no_dire_identified'] = (~df[['player_' + str(i) for i in range(5, 10)]].isna() == True).\\\n",
    "    apply(lambda x: sum(x), axis=1)\n",
    "\n",
    "df.head()"
   ]
  },
  {
   "cell_type": "code",
   "execution_count": 5,
   "metadata": {},
   "outputs": [
    {
     "data": {
      "text/plain": [
       "(2522, 26)"
      ]
     },
     "execution_count": 5,
     "metadata": {},
     "output_type": "execute_result"
    }
   ],
   "source": [
    "df[(df.radiant_abandons != 0) | (df.dire_abandons != 0)].shape"
   ]
  },
  {
   "cell_type": "code",
   "execution_count": 6,
   "metadata": {},
   "outputs": [
    {
     "data": {
      "text/plain": [
       "(16522, 26)"
      ]
     },
     "execution_count": 6,
     "metadata": {},
     "output_type": "execute_result"
    }
   ],
   "source": [
    "df[(df.no_radiant_identified > 3) & (df.no_dire_identified > 3)].shape"
   ]
  },
  {
   "cell_type": "code",
   "execution_count": 7,
   "metadata": {},
   "outputs": [
    {
     "data": {
      "text/plain": [
       "(3787, 26)"
      ]
     },
     "execution_count": 7,
     "metadata": {},
     "output_type": "execute_result"
    }
   ],
   "source": [
    "df[(df.no_radiant_identified > 4) & (df.no_dire_identified > 4)].shape"
   ]
  }
 ],
 "metadata": {
  "kernelspec": {
   "display_name": "Python 3",
   "language": "python",
   "name": "python3"
  },
  "language_info": {
   "codemirror_mode": {
    "name": "ipython",
    "version": 3
   },
   "file_extension": ".py",
   "mimetype": "text/x-python",
   "name": "python",
   "nbconvert_exporter": "python",
   "pygments_lexer": "ipython3",
   "version": "3.6.4"
  }
 },
 "nbformat": 4,
 "nbformat_minor": 2
}
